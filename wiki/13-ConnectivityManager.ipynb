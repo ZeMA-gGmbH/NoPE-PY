{
 "cells": [
  {
   "cell_type": "markdown",
   "metadata": {},
   "source": [
    "# NoPE - Connectivity Manager\n",
    "\n",
    "The NoPE-Dispatcher uses one `ConnectivityManager`. The manager observes the connection and remotly connected dispatchers (and their `ConnectivityManager`). The Manager detects newly connected dispatchers and disconnected dispatchers. Additionally, it sends a StatusMessage (in the form of `INopeStatusInfo`). This status message is interpreted as heartbeat. The `ConnectivityManager` checks those heartbeats with a defined interval. If a specific amount of time is ellapsed, the remote dispatcher is marked as `slow` -> `warning` -> `dead`. After an additional delay in the state `dead` the dispatcher is altough removed.\n",
    "\n",
    "## Master\n",
    "\n",
    "Defaultly a `ConnectivityManager` is elected as `master`. The master is defined as the `ConnectivityManager` with the highest `upTime`. \n",
    "\n",
    "> Alternativly a master can be forced.\n",
    "\n",
    "## Synchronizing time\n",
    "\n",
    "Because we asume, that **NoPE** is running on different computing nodes, we have to be able to synchronize the time between those elements. Therefore the `ConnectivityManager` is able to sync the time (by providing a `timestamp` and an additional `delay` that was needed to get to the call (for instance `ping / 2`))\n"
   ]
  },
  {
   "cell_type": "code",
   "execution_count": 1,
   "metadata": {},
   "outputs": [],
   "source": [
    "# First lets install nope using npm\n",
    "import nope\n",
    "import asyncio\n",
    "\n",
    "# Create a communicator:\n",
    "# We will use the event layer (which just runs internally)\n",
    "communicator = await nope.getLayer(\"event\")\n",
    "\n",
    "# Lets create our dispatcher\n",
    "\n",
    "# 1. Dispatcher simulates our local system\n",
    "localDispatcher = nope.dispatcher.getDispatcher({\n",
    "  \"communicator\":communicator,\n",
    "  \"id\": \"local\"\n",
    "}, {\n",
    "  \"singleton\": False,\n",
    "  \"useBaseServices\": False\n",
    "})"
   ]
  },
  {
   "cell_type": "markdown",
   "metadata": {},
   "source": [
    "> For Jupyter we need an extra async wrapper to wait for initalizing the dispatcher:\n",
    "\n",
    "see here for the details in Jupyter: https:#n-riesco.github.io/ijavascript/doc/async.ipynb.html"
   ]
  },
  {
   "cell_type": "code",
   "execution_count": 2,
   "metadata": {},
   "outputs": [
    {
     "data": {
      "text/plain": [
       "True"
      ]
     },
     "execution_count": 2,
     "metadata": {},
     "output_type": "execute_result"
    }
   ],
   "source": [
    "# Lets wait for our element to be ready.\n",
    "await localDispatcher.ready.waitFor()"
   ]
  },
  {
   "cell_type": "markdown",
   "metadata": {},
   "source": [
    "Now we want to listen to newly connected dispatchers. For this purpose, we create an observer, which will listen to changes."
   ]
  },
  {
   "cell_type": "code",
   "execution_count": 3,
   "metadata": {},
   "outputs": [],
   "source": [
    "# Subscribe to changes\n",
    "def onChange(data, rest):\n",
    "  # Log the changes\n",
    "  print(\"onChange - listener\")\n",
    "  print(\"\\tadded   =\", data.added)\n",
    "  print(\"\\tremoved =\", data.removed)\n",
    "\n",
    "\n",
    "observer = localDispatcher.connectivityManager.dispatchers.onChange.subscribe(onChange)"
   ]
  },
  {
   "cell_type": "markdown",
   "metadata": {},
   "source": [
    "Additionally we want to show the currently connected dispatchers. In this data the own dispatcher will **allways** be included:"
   ]
  },
  {
   "cell_type": "code",
   "execution_count": 4,
   "metadata": {},
   "outputs": [
    {
     "name": "stdout",
     "output_type": "stream",
     "text": [
      "connectedDispatchers    = []\n",
      "localDispatcherIncluded = False\n"
     ]
    }
   ],
   "source": [
    "# Show our connected Dispatchers\n",
    "connectedDispatchers = localDispatcher.connectivityManager.dispatchers.data.getContent()\n",
    "localDispatcherIncluded = localDispatcher.id in connectedDispatchers\n",
    "\n",
    "# Now lets log our results.\n",
    "print(\"connectedDispatchers    =\", connectedDispatchers)\n",
    "print(\"localDispatcherIncluded =\", localDispatcherIncluded)"
   ]
  },
  {
   "cell_type": "markdown",
   "metadata": {},
   "source": [
    "Now that we have implemented our listeners and have seen the connected dispatchers (which is only the `\"local\"`-dispatchre), We will add an additional dispatcher. This should result in calling our `onChange`-listener. Additionally, we wait until our `remoteDispatcher` is initalized"
   ]
  },
  {
   "cell_type": "code",
   "execution_count": 5,
   "metadata": {},
   "outputs": [],
   "source": [
    "# 2. Dispatcher simulates our remote system\n",
    "remoteDispatcher = nope.dispatcher.getDispatcher({\n",
    "  \"communicator\": communicator,\n",
    "  \"id\": \"remote\"\n",
    "}, {\n",
    "  \"singleton\": False,\n",
    "  \"useBaseServices\": False\n",
    "})\n"
   ]
  },
  {
   "cell_type": "markdown",
   "metadata": {},
   "source": [
    "Now we want to see, which system is the current master. This should be our `local`."
   ]
  },
  {
   "cell_type": "code",
   "execution_count": 6,
   "metadata": {},
   "outputs": [
    {
     "name": "stdout",
     "output_type": "stream",
     "text": [
      "onChange - listener\n",
      "\tadded   = ['local', 'remote']\n",
      "\tremoved = []\n",
      "master = local\n"
     ]
    }
   ],
   "source": [
    "# We expect to be the master, because the localDispatcher has been created first.\n",
    "print(\"master =\", localDispatcher.connectivityManager.master.id)"
   ]
  },
  {
   "cell_type": "markdown",
   "metadata": {},
   "source": [
    "We can now force the remote dispatcher to be our master, by setting the master. (For this purpose we can later use a base service ==> then we just have to call the service) "
   ]
  },
  {
   "cell_type": "code",
   "execution_count": 7,
   "metadata": {},
   "outputs": [],
   "source": [
    "remoteDispatcher.connectivityManager.isMaster = True\n",
    "localDispatcher.connectivityManager.isMaster = False\n",
    "\n",
    "\n",
    "await asyncio.sleep(5)"
   ]
  },
  {
   "cell_type": "code",
   "execution_count": 8,
   "metadata": {},
   "outputs": [
    {
     "name": "stdout",
     "output_type": "stream",
     "text": [
      "master = remote\n",
      "master-info = {'id': 'remote', 'env': 'python', 'version': '1.4.1', 'isMaster': True, 'isMasterForced': True, 'host': {'cores': 8, 'cpu': {'model': 'Intel64 Family 6 Model 142 Stepping 12, GenuineIntel', 'speed': 1992.0, 'usage': 20.3}, 'os': 'Windows 10', 'ram': {'usedPerc': 22.8, 'free': 25058, 'total': 32442}, 'name': 'nz-078'}, 'pid': 14932, 'timestamp': 1667854255621, 'connectedSince': 1667854250554, 'status': 0}\n"
     ]
    }
   ],
   "source": [
    "# We expect the master to be the remote.\n",
    "print(\"master =\", localDispatcher.connectivityManager.master.id)\n",
    "print(\"master-info =\", localDispatcher.connectivityManager.master)"
   ]
  },
  {
   "cell_type": "markdown",
   "metadata": {},
   "source": [
    "Now lets see what happens if we adapt the heartbeat intervall of our *local* instance. We want to receive every 50 ms a heartbeat:"
   ]
  },
  {
   "cell_type": "code",
   "execution_count": 9,
   "metadata": {},
   "outputs": [
    {
     "name": "stdout",
     "output_type": "stream",
     "text": [
      "master-info = 0\n",
      "master-info = ENopeDispatcherStatus.SLOW\n",
      "master-info = ENopeDispatcherStatus.WARNING\n",
      "master-info = ENopeDispatcherStatus.DEAD\n"
     ]
    }
   ],
   "source": [
    "\n",
    "\n",
    "def renderStatus():\n",
    "  print(\"master-info =\", localDispatcher.connectivityManager.master.status)\n",
    "\n",
    "\n",
    "nope.EXECUTOR.setTimeout(renderStatus, 50)\n",
    "nope.EXECUTOR.setTimeout(renderStatus, 750)\n",
    "nope.EXECUTOR.setTimeout(renderStatus, 1500)\n",
    "nope.EXECUTOR.setTimeout(renderStatus, 2500)\n",
    "\n",
    "\n",
    "await localDispatcher.connectivityManager.setTimings({\n",
    "  # our system will send every 50 ms an heartbeat.\n",
    "  \"sendAliveInterval\": 250,\n",
    "  # we will check that after\n",
    "  \"checkInterval\": 125,\n",
    "  # will mark dispatchers as slow after not receiving heartbeats for 50ms\n",
    "  \"slow\": 500,\n",
    "  # we will mark  dispatchers with a warning flag after 50 ms\n",
    "  \"warn\": 1000,\n",
    "  # we mark it as dead after 0.5 s\n",
    "  \"dead\": 2000,\n",
    "  # We will remove the dispatcher after 1 s\n",
    "  \"remove\": 3000,\n",
    "})\n",
    "\n",
    "await remoteDispatcher.connectivityManager.setTimings({\n",
    "  # our system will send every 50 ms an heartbeat.\n",
    "  \"sendAliveInterval\": 5000,\n",
    "})\n",
    "\n",
    "async def resetTiming():\n",
    "  await localDispatcher.connectivityManager.setTimings({})\n",
    "  await remoteDispatcher.connectivityManager.setTimings({})\n",
    "\n",
    "# We reset the timeouts.\n",
    "nope.EXECUTOR.setTimeout(resetTiming, 3000)\n",
    "\n",
    "await asyncio.sleep(5)\n"
   ]
  },
  {
   "cell_type": "code",
   "execution_count": null,
   "metadata": {
    "vscode": {
     "languageId": "javascript"
    }
   },
   "outputs": [],
   "source": []
  }
 ],
 "metadata": {
  "kernelspec": {
   "display_name": "Python 3.10.5 64-bit",
   "language": "python",
   "name": "python3"
  },
  "language_info": {
   "codemirror_mode": {
    "name": "ipython",
    "version": 3
   },
   "file_extension": ".py",
   "mimetype": "text/x-python",
   "name": "python",
   "nbconvert_exporter": "python",
   "pygments_lexer": "ipython3",
   "version": "3.10.5"
  },
  "vscode": {
   "interpreter": {
    "hash": "369f2c481f4da34e4445cda3fffd2e751bd1c4d706f27375911949ba6bb62e1c"
   }
  }
 },
 "nbformat": 4,
 "nbformat_minor": 2
}
