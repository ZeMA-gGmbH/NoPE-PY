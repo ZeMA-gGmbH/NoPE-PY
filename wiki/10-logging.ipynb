{
 "cells": [
  {
   "cell_type": "markdown",
   "metadata": {},
   "source": [
    "Firstly we will checkout the Logger.\n",
    "Therefore we import nope:"
   ]
  },
  {
   "cell_type": "code",
   "execution_count": 21,
   "metadata": {},
   "outputs": [],
   "source": [
    "import nope\n",
    "# Create a logger.\n",
    "logger = nope.getNopeLogger(\"demo\", nope.DEBUG)"
   ]
  },
  {
   "cell_type": "markdown",
   "metadata": {},
   "source": [
    "Now lets use the Logger to see the output"
   ]
  },
  {
   "cell_type": "code",
   "execution_count": 22,
   "metadata": {},
   "outputs": [
    {
     "name": "stdout",
     "output_type": "stream",
     "text": [
      "\u001b[38;5;226m2022-11-07 19:07:18,557 -  WARNING -                 demo - warn-message\u001b[0m\n",
      "\u001b[38;5;196m2022-11-07 19:07:18,558 -    ERROR -                 demo - An Error\u001b[0m\n"
     ]
    }
   ],
   "source": [
    "logger.debug(\"debug-message\")\n",
    "logger.info(\"info-message\")\n",
    "logger.warning(\"warn-message\")\n",
    "logger.error(Exception(\"An Error\"))"
   ]
  },
  {
   "cell_type": "markdown",
   "metadata": {},
   "source": [
    "As you can see, the logger wont defaultly log the entire Exception-Stack.\n",
    "Therefore we will use teh function `formatException`. This will print the stack and helps us to "
   ]
  },
  {
   "cell_type": "code",
   "execution_count": 23,
   "metadata": {},
   "outputs": [
    {
     "name": "stdout",
     "output_type": "stream",
     "text": [
      "\u001b[38;5;196m2022-11-07 19:07:18,608 -    ERROR -                 demo - Traceback (most recent call last):\n",
      "  File \"c:\\Python310\\lib\\runpy.py\", line 196, in _run_module_as_main\n",
      "    return _run_code(code, main_globals, None,\n",
      "  File \"c:\\Python310\\lib\\runpy.py\", line 86, in _run_code\n",
      "    exec(code, run_globals)\n",
      "  File \"C:\\Users\\m.karkowski\\AppData\\Roaming\\Python\\Python310\\site-packages\\ipykernel_launcher.py\", line 17, in <module>\n",
      "    app.launch_new_instance()\n",
      "  File \"C:\\Users\\m.karkowski\\AppData\\Roaming\\Python\\Python310\\site-packages\\traitlets\\config\\application.py\", line 982, in launch_instance\n",
      "    app.start()\n",
      "  File \"C:\\Users\\m.karkowski\\AppData\\Roaming\\Python\\Python310\\site-packages\\ipykernel\\kernelapp.py\", line 712, in start\n",
      "    self.io_loop.start()\n",
      "  File \"C:\\Users\\m.karkowski\\AppData\\Roaming\\Python\\Python310\\site-packages\\tornado\\platform\\asyncio.py\", line 215, in start\n",
      "    self.asyncio_loop.run_forever()\n",
      "  File \"c:\\Python310\\lib\\asyncio\\base_events.py\", line 600, in run_forever\n",
      "    self._run_once()\n",
      "  File \"c:\\Python310\\lib\\asyncio\\base_events.py\", line 1896, in _run_once\n",
      "    handle._run()\n",
      "  File \"c:\\Python310\\lib\\asyncio\\events.py\", line 80, in _run\n",
      "    self._context.run(self._callback, *self._args)\n",
      "  File \"C:\\Users\\m.karkowski\\AppData\\Roaming\\Python\\Python310\\site-packages\\ipykernel\\kernelbase.py\", line 510, in dispatch_queue\n",
      "    await self.process_one()\n",
      "  File \"C:\\Users\\m.karkowski\\AppData\\Roaming\\Python\\Python310\\site-packages\\ipykernel\\kernelbase.py\", line 499, in process_one\n",
      "    await dispatch(*args)\n",
      "  File \"C:\\Users\\m.karkowski\\AppData\\Roaming\\Python\\Python310\\site-packages\\ipykernel\\kernelbase.py\", line 406, in dispatch_shell\n",
      "    await result\n",
      "  File \"C:\\Users\\m.karkowski\\AppData\\Roaming\\Python\\Python310\\site-packages\\ipykernel\\kernelbase.py\", line 730, in execute_request\n",
      "    reply_content = await reply_content\n",
      "  File \"C:\\Users\\m.karkowski\\AppData\\Roaming\\Python\\Python310\\site-packages\\ipykernel\\ipkernel.py\", line 383, in do_execute\n",
      "    res = shell.run_cell(\n",
      "  File \"C:\\Users\\m.karkowski\\AppData\\Roaming\\Python\\Python310\\site-packages\\ipykernel\\zmqshell.py\", line 528, in run_cell\n",
      "    return super().run_cell(*args, **kwargs)\n",
      "  File \"C:\\Users\\m.karkowski\\AppData\\Roaming\\Python\\Python310\\site-packages\\IPython\\core\\interactiveshell.py\", line 2940, in run_cell\n",
      "    result = self._run_cell(\n",
      "  File \"C:\\Users\\m.karkowski\\AppData\\Roaming\\Python\\Python310\\site-packages\\IPython\\core\\interactiveshell.py\", line 2995, in _run_cell\n",
      "    return runner(coro)\n",
      "  File \"C:\\Users\\m.karkowski\\AppData\\Roaming\\Python\\Python310\\site-packages\\IPython\\core\\async_helpers.py\", line 129, in _pseudo_sync_runner\n",
      "    coro.send(None)\n",
      "  File \"C:\\Users\\m.karkowski\\AppData\\Roaming\\Python\\Python310\\site-packages\\IPython\\core\\interactiveshell.py\", line 3194, in run_cell_async\n",
      "    has_raised = await self.run_ast_nodes(code_ast.body, cell_name,\n",
      "  File \"C:\\Users\\m.karkowski\\AppData\\Roaming\\Python\\Python310\\site-packages\\IPython\\core\\interactiveshell.py\", line 3373, in run_ast_nodes\n",
      "    if await self.run_code(code, result, async_=asy):\n",
      "  File \"C:\\Users\\m.karkowski\\AppData\\Roaming\\Python\\Python310\\site-packages\\IPython\\core\\interactiveshell.py\", line 3433, in run_code\n",
      "    exec(code_obj, self.user_global_ns, self.user_ns)\n",
      "NoneType: None\u001b[0m\n"
     ]
    }
   ],
   "source": [
    "logger.error(nope.formatException(Exception(\"An Error\")))"
   ]
  },
  {
   "cell_type": "markdown",
   "metadata": {},
   "source": [
    "As you can see now we get all information of the error. Which might help us to debug the code.\n",
    "\n",
    "# Change the level\n",
    "\n",
    "Now we want to adapt the level. Because we are using a default logger from `logging` we can change the level with `setLevel`"
   ]
  },
  {
   "cell_type": "code",
   "execution_count": 24,
   "metadata": {},
   "outputs": [
    {
     "name": "stdout",
     "output_type": "stream",
     "text": [
      "\u001b[38;5;39m2022-11-07 19:07:18,644 -     INFO -                 demo - should be visible\u001b[0m\n"
     ]
    }
   ],
   "source": [
    "logger.setLevel(nope.INFO)\n",
    "logger.debug(\"should not be visible\")\n",
    "logger.info(\"should be visible\")"
   ]
  },
  {
   "cell_type": "markdown",
   "metadata": {},
   "source": [
    "Sometimes you want to check if the logger is enabled for a specific level (eg. to speed things up) \n",
    "To do so, Please use the function `isEnabledFor`"
   ]
  },
  {
   "cell_type": "code",
   "execution_count": 25,
   "metadata": {},
   "outputs": [
    {
     "data": {
      "text/plain": [
       "False"
      ]
     },
     "execution_count": 25,
     "metadata": {},
     "output_type": "execute_result"
    }
   ],
   "source": [
    "# Ask the Logger whether it is enabled for \"DEBUGGING\":\n",
    "logger.isEnabledFor(nope.DEBUG)"
   ]
  },
  {
   "cell_type": "markdown",
   "metadata": {},
   "source": [
    "# Adding additional loggers.\n",
    "\n",
    "We make shure that you can create multiple loggers from different items (use the parameter name.)"
   ]
  },
  {
   "cell_type": "code",
   "execution_count": 26,
   "metadata": {},
   "outputs": [
    {
     "name": "stdout",
     "output_type": "stream",
     "text": [
      "\u001b[38;5;39m2022-11-07 19:07:18,814 -     INFO -       another-logger - Hello!\u001b[0m\n",
      "\u001b[38;5;39m2022-11-07 19:07:18,815 -     INFO -                 demo - Hello!\u001b[0m\n"
     ]
    }
   ],
   "source": [
    "logger_02 = nope.getNopeLogger(\"another-logger\")\n",
    "logger_02.info(\"Hello!\")\n",
    "logger.info(\"Hello!\")"
   ]
  }
 ],
 "metadata": {
  "kernelspec": {
   "display_name": "Python 3.10.5 64-bit",
   "language": "python",
   "name": "python3"
  },
  "language_info": {
   "codemirror_mode": {
    "name": "ipython",
    "version": 3
   },
   "file_extension": ".py",
   "mimetype": "text/x-python",
   "name": "python",
   "nbconvert_exporter": "python",
   "pygments_lexer": "ipython3",
   "version": "3.10.5"
  },
  "orig_nbformat": 4,
  "vscode": {
   "interpreter": {
    "hash": "369f2c481f4da34e4445cda3fffd2e751bd1c4d706f27375911949ba6bb62e1c"
   }
  }
 },
 "nbformat": 4,
 "nbformat_minor": 2
}
